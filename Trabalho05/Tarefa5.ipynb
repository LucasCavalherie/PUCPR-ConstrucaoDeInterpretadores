{
  "nbformat": 4,
  "nbformat_minor": 0,
  "metadata": {
    "colab": {
      "provenance": [],
      "collapsed_sections": []
    },
    "kernelspec": {
      "name": "python3",
      "display_name": "Python 3"
    },
    "language_info": {
      "name": "python"
    }
  },
  "cells": [
    {
      "cell_type": "code",
      "execution_count": null,
      "metadata": {
        "id": "ZiDQz0JNUEJm"
      },
      "outputs": [],
      "source": [
        "from tabulate import tabulate\n",
        "from bs4 import BeautifulSoup\n",
        "import requests\n",
        "import string\n",
        "import re\n",
        "\n",
        "vocabulario = set()\n",
        "palavras = []\n",
        "textoPorUrl = []\n",
        "urls = []\n",
        "\n",
        "urls.append('https://developer.apple.com/documentation/naturallanguage')\n",
        "urls.append('https://en.wikipedia.org/wiki/Natural_language_processing')\n",
        "urls.append('https://www.ibm.com/cloud/learn/natural-language-processing')\n",
        "urls.append('https://www.techtarget.com/searchenterpriseai/definition/natural-language-processing-NLP')\n",
        "urls.append('https://www.sas.com/en_us/insights/analytics/what-is-natural-language-processing-nlp.html')\n",
        "\n",
        "for url in urls:\n",
        "  html = requests.get(url)\n",
        "  texto = BeautifulSoup(html.text, \"html.parser\")\n",
        "\n",
        "  for sentenca in texto.find_all(\"p\"):\n",
        "    sentenca = sentenca.get_text().translate(str.maketrans('', '', string.punctuation)) # remove pontuacao\n",
        "    textoPorUrl.append(sentenca)\n",
        "\n",
        "for texto in textoPorUrl:\n",
        "  palavras.append(texto.split())\n",
        "\n",
        "texto = palavras\n",
        "\n",
        "for sentenca in texto:\n",
        "  for palavra in sentenca:\n",
        "    vocabulario.add(palavra)\n",
        "\n",
        "matriz = []\n",
        "for sentenca in texto:\n",
        "  vetor = []\n",
        "  for palavra in vocabulario:\n",
        "    if palavra in sentenca:\n",
        "      vetor.append(sentenca.count(palavra))\n",
        "    else:\n",
        "      vetor.append(0)\n",
        "  matriz.append(vetor)\n",
        "\n",
        "\n",
        "print(tabulate(matriz, headers=vocabulario))"
      ]
    }
  ]
}